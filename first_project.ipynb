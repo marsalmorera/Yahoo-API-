{
 "cells": [
  {
   "attachments": {
    "535f544d-433f-48fc-967a-14fec00ddb50.png": {
     "image/png": "[encoded data removed]"
    }
   },
   "cell_type": "markdown",
   "id": "dccadf02-f3b1-4f3a-bbde-009f94531526",
   "metadata": {},
   "source": [
    "![download.png](attachment:535f544d-433f-48fc-967a-14fec00ddb50.png)"
   ]
  },
  {
   "cell_type": "markdown",
   "id": "65092321",
   "metadata": {},
   "source": [
    "<h1 style=\"color: #00BFFF;\">First Project: Extraction & Cleaning</h1>"
   ]
  },
  {
   "cell_type": "markdown",
   "id": "7813165d",
   "metadata": {},
   "source": [
    "<h1 style=\"color: #00BFFF;\">00 | Import</h1>"
   ]
  },
  {
   "cell_type": "code",
   "execution_count": null,
   "id": "e682116d-4203-4773-8b7c-8c4527ab3411",
   "metadata": {
    "tags": []
   },
   "outputs": [],
   "source": [
    "import pandas as pd\n",
    "import numpy as np "
   ]
  },
  {
   "cell_type": "markdown",
   "id": "0114e245-9195-45ae-867a-7f3e0f08fe35",
   "metadata": {
    "tags": []
   },
   "source": [
    "<h1 style=\"color: #00BFFF;\">01 | Data Extraction</h1>"
   ]
  },
  {
   "cell_type": "code",
   "execution_count": null,
   "id": "4b4e3929-a589-474e-bcdc-55e45d0c7c73",
   "metadata": {
    "tags": []
   },
   "outputs": [],
   "source": [
    "data = pd.read_csv('market_cap.csv')"
   ]
  },
  {
   "cell_type": "markdown",
   "id": "6ccd0e85-7c73-4e84-a2d8-f21a62d6c5e3",
   "metadata": {
    "tags": []
   },
   "source": [
    "<h2 style=\"color: #008080;\">Exploring the Data (First Impression)</h2>"
   ]
  },
  {
   "cell_type": "code",
   "execution_count": null,
   "id": "312d4d11",
   "metadata": {
    "tags": []
   },
   "outputs": [],
   "source": [
    "data.head(3)"
   ]
  },
  {
   "cell_type": "code",
   "execution_count": null,
   "id": "08f69724",
   "metadata": {},
   "outputs": [],
   "source": [
    "data.shape"
   ]
  },
  {
   "cell_type": "code",
   "execution_count": null,
   "id": "48c07010-d010-42f5-a8f4-c958f94535be",
   "metadata": {},
   "outputs": [],
   "source": [
    "data.dtypes"
   ]
  },
  {
   "cell_type": "markdown",
   "id": "a1ca18f8-9e09-4507-a3c4-da4649eb45b1",
   "metadata": {},
   "source": [
    "**First impression:**\n",
    "    \n",
    "_____________\n",
    "\n",
    "The following dataset is a collection of **260** stocks from the Largest Market Cap distributed among 90 different columns. The majority of our data types are mostly **numericals**.\n",
    "\n",
    "Our **project goal** is to identify players who have the potential to become **the next \"Mbappé\"**. After reading the [documentation](https://www.kaggle.com/datasets/ekrembayar/fifa-21-complete-player-dataset?select=fifa21_male2.csv) we wil proceed with the following **strategy**:\n",
    "\n",
    "1. The **target** of our dataset will be `Overall`, which is a summary of a player's performance and potential. \n",
    "2. Through **Exploratory Data Analysis** we will identify the features that contribute to this prediction.\n",
    "_____________"
   ]
  },
  {
   "cell_type": "code",
   "execution_count": null,
   "id": "2a787aa1",
   "metadata": {},
   "outputs": [],
   "source": [
    "df2 = data.copy()\n",
    "df3 = data.copy()"
   ]
  },
  {
   "cell_type": "markdown",
   "id": "6088a8eb",
   "metadata": {
    "tags": []
   },
   "source": [
    "<h2 style=\"color: #008080;\">Standardize Columns</h2>"
   ]
  },
  {
   "cell_type": "markdown",
   "id": "417a8a85-bc10-46e3-9494-fac45f62ad64",
   "metadata": {},
   "source": [
    "<h1 style=\"color: #00BFFF;\">02 | Data Cleaning</h1>"
   ]
  },
  {
   "cell_type": "code",
   "execution_count": null,
   "id": "fef389b4-e7fd-45da-8b27-6c2903a3ffe1",
   "metadata": {},
   "outputs": [],
   "source": [
    "# Select the columns. \n",
    "data.columns = [col.lower().replace(\" \", \"_\")for col in data.columns] #snake_case\n",
    "df = data[['symbol','marketcap','regularmarketprice','averageanalystrating','fiftydayaverage', 'twohundreddayaverage','custompricealertconfidence','bookvalue', 'forwardpe', 'pricetobook','dividendrate','sharesoutstanding']]"
   ]
  },
  {
   "cell_type": "code",
   "execution_count": null,
   "id": "7f4a858f-0599-456e-8dbb-b550dc10454b",
   "metadata": {},
   "outputs": [],
   "source": [
    "# Rating Cleaning \n",
    "def extract_rating(value):\n",
    "    value = str(value)\n",
    "    if '-' in value:\n",
    "        return value.split('-')[1].strip()\n",
    "    else:\n",
    "        return value.strip()\n",
    "df['averageanalystrating'] = df['averageanalystrating'].apply(extract_rating)"
   ]
  },
  {
   "cell_type": "code",
   "execution_count": null,
   "id": "b41f5f11-86ab-4202-9822-0d2e33c132db",
   "metadata": {},
   "outputs": [],
   "source": [
    "# Rename a few columns. \n",
    "df = df.rename(columns={\"regularmarketprice\": \"price\",\n",
    "                       \"averageanalystrating\": \"rating\", \n",
    "                       \"custompricealertconfidence\": \"confidence\",\n",
    "                        \"fiftydayaverage\":\"50\",\n",
    "                        \"twohundreddayaverage\":\"200\",          \n",
    "                       })\n",
    "columns_round = ['50', '200','forwardpe', 'pricetobook']\n",
    "df[columns_round] = df[columns_round].round(2)"
   ]
  },
  {
   "cell_type": "markdown",
   "id": "58ec1312-cfbe-4a90-829c-d4ace665595b",
   "metadata": {
    "tags": []
   },
   "source": [
    "<h2 style=\"color: #008080;\">Feature Selection (Dropping unnecesary features)</h2>"
   ]
  },
  {
   "cell_type": "code",
   "execution_count": null,
   "id": "67469ab5-baa7-4ee9-840d-51a299669dab",
   "metadata": {},
   "outputs": [],
   "source": [
    "df.columns"
   ]
  },
  {
   "cell_type": "code",
   "execution_count": null,
   "id": "ab872653-0033-4d9b-a81b-5ed30639ee77",
   "metadata": {},
   "outputs": [],
   "source": [
    "# Drop this Paragraph"
   ]
  },
  {
   "cell_type": "markdown",
   "id": "9106861d-272f-4cd2-a3e3-b5827f3d6193",
   "metadata": {
    "tags": []
   },
   "source": [
    "<h2 style=\"color: #008080;\">Checking Duplicates</h2>"
   ]
  },
  {
   "cell_type": "code",
   "execution_count": null,
   "id": "818805af",
   "metadata": {},
   "outputs": [],
   "source": [
    "df.head(10)"
   ]
  },
  {
   "cell_type": "code",
   "execution_count": null,
   "id": "9d7973af-59a7-499b-b2ec-bc0a2c44004c",
   "metadata": {},
   "outputs": [],
   "source": [
    "#Dropping duplicates in specific rows. \n",
    "df.drop([2, 5, 8], inplace=True)"
   ]
  },
  {
   "cell_type": "markdown",
   "id": "4d6cfd32-5448-4962-882e-40f435a41842",
   "metadata": {
    "tags": []
   },
   "source": [
    "<h2 style=\"color: #008080;\">Checking Null Values</h2>"
   ]
  },
  {
   "cell_type": "code",
   "execution_count": null,
   "id": "1568f50b",
   "metadata": {},
   "outputs": [],
   "source": [
    "df.isna().sum()"
   ]
  },
  {
   "cell_type": "code",
   "execution_count": null,
   "id": "2fe6c9ec-6ffc-4087-aa2b-8be6ec132a63",
   "metadata": {},
   "outputs": [],
   "source": [
    "df['rating'].value_counts()"
   ]
  },
  {
   "cell_type": "code",
   "execution_count": null,
   "id": "6cfab3f7-d36b-4f96-9fb5-0fef04fa88e6",
   "metadata": {},
   "outputs": [],
   "source": [
    "# Filling nan values with no rating. \n",
    "df.rating = df.rating.replace({'nan':'no rating'})"
   ]
  },
  {
   "cell_type": "code",
   "execution_count": null,
   "id": "51f8fd05-e725-4b04-8b9b-6e0e7999e67b",
   "metadata": {},
   "outputs": [],
   "source": [
    "#Filling NaN values forward PE with the mean. \n",
    "mean_pe = df['forwardpe'].mean()\n",
    "df['forwardpe'] = df['forwardpe'].fillna(round(mean_pe,2))"
   ]
  },
  {
   "cell_type": "code",
   "execution_count": null,
   "id": "3eecefa1-ef0f-445c-b684-622a93bc499b",
   "metadata": {},
   "outputs": [],
   "source": [
    "#Filling NaN values for dividend rate. \n",
    "df['dividendrate'] = df['dividendrate'].fillna(0)"
   ]
  },
  {
   "cell_type": "code",
   "execution_count": null,
   "id": "e3130312-c456-45b4-b8f2-fea4159ec20e",
   "metadata": {},
   "outputs": [],
   "source": [
    "df.isna().sum()"
   ]
  },
  {
   "cell_type": "markdown",
   "id": "5b99f8c1-08d3-423d-bef0-5e4d18d48808",
   "metadata": {
    "tags": []
   },
   "source": [
    "<h2 style=\"color: #008080;\">Checking Emtpy Spaces</h2>"
   ]
  },
  {
   "cell_type": "code",
   "execution_count": null,
   "id": "c6d4403b",
   "metadata": {},
   "outputs": [],
   "source": []
  },
  {
   "cell_type": "markdown",
   "id": "11ff597a-e5f3-4e3b-93d5-cbec9235951f",
   "metadata": {
    "tags": []
   },
   "source": [
    "<h2 style=\"color: #008080;\">Reset Index</h2>"
   ]
  },
  {
   "cell_type": "code",
   "execution_count": null,
   "id": "ca4d89d1-52cf-4505-a742-6d7132cb2c0b",
   "metadata": {},
   "outputs": [],
   "source": [
    "df = df.sort_values(by='marketcap', ascending=False)"
   ]
  },
  {
   "cell_type": "code",
   "execution_count": null,
   "id": "5c72209d-e2bc-489e-a7b3-9167e225d499",
   "metadata": {},
   "outputs": [],
   "source": [
    "df = df.reset_index()\n",
    "df.head(10)"
   ]
  },
  {
   "cell_type": "code",
   "execution_count": null,
   "id": "74a77fdf-2599-429b-bd66-a13bf8cac101",
   "metadata": {},
   "outputs": [],
   "source": [
    "df = df.drop(columns=['index'])"
   ]
  },
  {
   "cell_type": "code",
   "execution_count": null,
   "id": "bb0b6cf8-cd55-4c94-b4bf-f70b1c944fbd",
   "metadata": {},
   "outputs": [],
   "source": [
    "df.index = df.index +1\n",
    "df.head(15)"
   ]
  },
  {
   "cell_type": "markdown",
   "id": "0093b9e1-5d64-41e8-9542-6b7d0da76f05",
   "metadata": {
    "tags": []
   },
   "source": [
    "<h2 style=\"color: #008080;\">Create new column called Industry</h2>"
   ]
  },
  {
   "cell_type": "code",
   "execution_count": null,
   "id": "d6ce73de-9231-4b4d-ba1d-da54936a2f44",
   "metadata": {},
   "outputs": [],
   "source": [
    "industry_mapping = {\n",
    "    'AAPL': 'Technology',\n",
    "    'NVDA': 'Technology',\n",
    "    'MSFT': 'Technology',\n",
    "    'GOOG': 'Technology',\n",
    "    'AMZN': 'Consumer Discretionary',\n",
    "    'META': 'Communication Services',\n",
    "    'BRK-B': 'Financials',\n",
    "    'TSM': 'Technology',\n",
    "    'AVGO': 'Technology',\n",
    "    'LLY': 'Healthcare',\n",
    "    'TSLA': 'Consumer Discretionary',\n",
    "    'WMT': 'Consumer Staples',\n",
    "    'JPM': 'Financials',\n",
    "    'V': 'Financials',\n",
    "    'NONOF': 'Healthcare',\n",
    "    'XOM': 'Energy',\n",
    "    'UNH': 'Healthcare',\n",
    "    'NVO': 'Healthcare',\n",
    "    'TCTZF': 'Technology',\n",
    "    'TCEHY': 'Technology',\n",
    "    'ORCL': 'Technology',\n",
    "    'MA': 'Financials',\n",
    "    'HD': 'Consumer Discretionary',\n",
    "    'PG': 'Consumer Staples',\n",
    "    'JNJ': 'Healthcare',\n",
    "    'COST': 'Consumer Staples',\n",
    "    'LVMUY': 'Consumer Discretionary',\n",
    "    'LVMHF': 'Consumer Discretionary',\n",
    "    'ABBV': 'Healthcare',\n",
    "    'JPM-PD': 'Financials',\n",
    "    'JPM-PC': 'Financials',\n",
    "    'BAC': 'Financials',\n",
    "    'BML-PH': 'Financials',\n",
    "    'BML-PG': 'Financials',\n",
    "    'KO': 'Consumer Staples',\n",
    "    'NFLX': 'Communication Services',\n",
    "    'BML-PL': 'Financials',\n",
    "    'RCIT': 'Technology',\n",
    "    'IDCBY': 'Financials',\n",
    "    'BAC-PE': 'Financials',\n",
    "    'IDCBF': 'Financials',\n",
    "    'ASMLF': 'Technology',\n",
    "    'ASML': 'Technology',\n",
    "    'BML-PJ': 'Financials',\n",
    "    'MRK': 'Healthcare',\n",
    "    'CRM': 'Technology',\n",
    "    'SAPGF': 'Technology',\n",
    "    'CVX': 'Energy',\n",
    "    'SAP': 'Technology',\n",
    "    'GDVTZ': 'Technology',\n",
    "    'RHHVF': 'Healthcare',\n",
    "    'TMUS': 'Communication Services',\n",
    "    'ACGBF': 'Consumer Staples',\n",
    "    'BAC-PB': 'Financials',\n",
    "    'BAC-PK': 'Financials',\n",
    "    'AMD': 'Technology',\n",
    "    'RHHBY': 'Healthcare',\n",
    "    'NSRGY': 'Consumer Staples',\n",
    "    'NSRGF': 'Consumer Staples',\n",
    "    'RHHBF': 'Healthcare',\n",
    "    'BABAF': 'Consumer Discretionary',\n",
    "    'BABA': 'Consumer Discretionary',\n",
    "    'AZN': 'Healthcare',\n",
    "    'ACGBY': 'Consumer Staples',\n",
    "    'HESAF': 'Energy',\n",
    "    'AZNCF': 'Healthcare',\n",
    "    'PEP': 'Consumer Staples',\n",
    "    'HESAY': 'Energy',\n",
    "    'NVS': 'Healthcare',\n",
    "    'NVSEF': 'Healthcare',\n",
    "    'ACN': 'Technology',\n",
    "    'LIN': 'Materials',\n",
    "    'TOYOF': 'Consumer Discretionary',\n",
    "    'TMO': 'Healthcare',\n",
    "    'TM': 'Consumer Discretionary',\n",
    "    'CSCO': 'Technology',\n",
    "    'MCD': 'Consumer Discretionary',\n",
    "    'ADBE': 'Technology',\n",
    "    'LRLCY': 'Technology',\n",
    "    'LRLCF': 'Technology',\n",
    "    'WFC': 'Financials',\n",
    "    'IBM': 'Technology',\n",
    "    'PCCYF': 'Technology',\n",
    "    'GE': 'Industrials',\n",
    "    'CICHF': 'Financials',\n",
    "    'WFC-PY': 'Financials',\n",
    "    'SHEL': 'Energy',\n",
    "    'ABT': 'Healthcare',\n",
    "    'AXP': 'Financials',\n",
    "    'BACHF': 'Financials',\n",
    "    'CICHY': 'Financials',\n",
    "    'WFC-PL': 'Financials',\n",
    "    'RYDAF': 'Financials',\n",
    "    'BX': 'Financials',\n",
    "    'DHR': 'Healthcare',\n",
    "    'BACHY': 'Financials',\n",
    "    'MS': 'Financials',\n",
    "    'QCOM': 'Technology',\n",
    "    'CAT': 'Industrials',\n",
    "    'NOW': 'Technology',\n",
    "    'PM': 'Consumer Staples',\n",
    "    'IDEXF': 'Technology',\n",
    "    'IDEXY': 'Technology',\n",
    "    'VZ': 'Communication Services',\n",
    "    'TXN': 'Technology',\n",
    "    'FMX': 'Consumer Staples',\n",
    "    'RY': 'Financials',\n",
    "    'PDD': 'Consumer Discretionary',\n",
    "    'DIS': 'Communication Services',\n",
    "    'NEE': 'Utilities',\n",
    "    'AMGN': 'Healthcare',\n",
    "    'UBER': 'Consumer Discretionary',\n",
    "    'INTU': 'Technology',\n",
    "    'ISRG': 'Healthcare',\n",
    "    'PFE': 'Healthcare',\n",
    "    'RTX': 'Industrials',\n",
    "    'GS': 'Financials',\n",
    "    'SPGI': 'Financials',\n",
    "    'CMCSA': 'Communication Services',\n",
    "    'LOW': 'Consumer Discretionary',\n",
    "    'HSBC': 'Financials',\n",
    "    'ARM': 'Technology',\n",
    "    'SMAWF': 'Technology',\n",
    "    'HDB': 'Financials',\n",
    "    'HBCYF': 'Financials',\n",
    "    'UL': 'Consumer Staples',\n",
    "    'UNLYF': 'Financials',\n",
    "    'CMWAY': 'Technology',\n",
    "    'SIEGY': 'Technology',\n",
    "    'CBAUF': 'Financials',\n",
    "    'BHPLF': 'Financials',\n",
    "    'T': 'Communication Services',\n",
    "    'DTEGY': 'Utilities',\n",
    "    'AMAT': 'Technology',\n",
    "    'DTEGF': 'Utilities',\n",
    "    'TTFNF': 'Technology',\n",
    "    'UNP': 'Industrials',\n",
    "    'BLK': 'Financials',\n",
    "    'PGR': 'Financials',\n",
    "    'FMXUF': 'Consumer Staples',\n",
    "    'TTE': 'Energy',\n",
    "    'BHP': 'Materials',\n",
    "    'SBGSY': 'Materials',\n",
    "    'LMT': 'Industrials',\n",
    "    'SBGSF': 'Materials',\n",
    "    'BKNG': 'Consumer Discretionary',\n",
    "    'HON': 'Industrials',\n",
    "    'CILJF': 'Financials',\n",
    "    'CIHKY': 'Healthcare',\n",
    "    'SNYNF': 'Healthcare',\n",
    "    'CIHHF': 'Healthcare',\n",
    "    'SYK': 'Healthcare',\n",
    "    'SNY': 'Healthcare',\n",
    "    'MPNGF': 'Technology',\n",
    "    'ETN': 'Industrials',\n",
    "    'MPNGY': 'Technology',\n",
    "    'PNGAY': 'Healthcare',\n",
    "    'TJX': 'Consumer Discretionary',\n",
    "    'PIAIF': 'Consumer Discretionary',\n",
    "    'SCHW': 'Financials',\n",
    "    'HTHIF': 'Financials',\n",
    "    'BUD': 'Consumer Staples',\n",
    "    'BUDFF': 'Consumer Staples',\n",
    "    'ALIZF': 'Consumer Discretionary',\n",
    "    'ALIZY': 'Consumer Discretionary',\n",
    "    'BSX': 'Healthcare',\n",
    "    'ANET': 'Technology',\n",
    "    'VRTX': 'Healthcare',\n",
    "    'RTNTF': 'Technology',\n",
    "    'KKR': 'Financials',\n",
    "    'MUFG': 'Financials',\n",
    "    'NKE': 'Consumer Discretionary',\n",
    "    'WFC-PC': 'Financials',\n",
    "    'MBFJF': 'Financials',\n",
    "    'HTHIY': 'Healthcare',\n",
    "    'COP': 'Energy',\n",
    "    'PANW': 'Technology',\n",
    "    'C': 'Financials',\n",
    "    'MU': 'Technology',\n",
    "    'PLD': 'Industrials',\n",
    "    'ADP': 'Technology',\n",
    "    'CB': 'Financials',\n",
    "    'EADSY': 'Utilities',\n",
    "    'UPS': 'Industrials',\n",
    "    'CHDRF': 'Technology',\n",
    "    'CHDRY': 'Technology',\n",
    "    'MDT': 'Healthcare',\n",
    "    'EADSF': 'Utilities',\n",
    "    'ELV': 'Healthcare',\n",
    "    'FI': 'Healthcare',\n",
    "    'ADI': 'Technology',\n",
    "    'SONY': 'Technology',\n",
    "    'ABLZF': 'Technology',\n",
    "    'SNEJF': 'Technology',\n",
    "    'MMC': 'Financials',\n",
    "    'DE': 'Industrials',\n",
    "    'BYDDY': 'Consumer Discretionary',\n",
    "    'BYDDF': 'Consumer Discretionary',\n",
    "    'CUAEF': 'Technology',\n",
    "    'REGN': 'Healthcare',\n",
    "    'FRCOF': 'Technology',\n",
    "    'FRCOY': 'Technology',\n",
    "    'ESLOF': 'Technology',\n",
    "    'CSUAY': 'Technology',\n",
    "    'RTPPF': 'Technology',\n",
    "    'KYCCF': 'Technology',\n",
    "    'BMY': 'Healthcare',\n",
    "    'SBUX': 'Consumer Discretionary',\n",
    "    'AIQUF': 'Technology',\n",
    "    'AIQUY': 'Technology',\n",
    "    'GILD': 'Healthcare',\n",
    "    'ESLOY': 'Healthcare',\n",
    "    'SNPMF': 'Healthcare',\n",
    "    'RIO': 'Materials',\n",
    "    'PROSF': 'Technology',\n",
    "    'AMT': 'Real Estate',\n",
    "    'HCA': 'Healthcare',\n",
    "    'SHOP': 'Consumer Discretionary',\n",
    "    'ABBNY': 'Consumer Discretionary',\n",
    "    'IBN': 'Financials',\n",
    "    'UBS': 'Financials',\n",
    "    'MELI': 'Consumer Discretionary',\n",
    "    'PROSY': 'Consumer Discretionary',\n",
    "    'SO': 'Utilities',\n",
    "    'RCRRF': 'Technology',\n",
    "    'CI': 'Healthcare',\n",
    "    'TD': 'Financials',\n",
    "    'SAFRF': 'Financials',\n",
    "    'SHW': 'Materials',\n",
    "    'IBDRY': 'Technology',\n",
    "    'IBDSF': 'Technology',\n",
    "    'CSLLY': 'Consumer Staples',\n",
    "    'CMXHF': 'Technology',\n",
    "    'RCRUY': 'Technology',\n",
    "    'LRCX': 'Technology',\n",
    "    'MDLZ': 'Consumer Staples',\n",
    "    'BA': 'Industrials',\n",
    "    'INTC': 'Technology',\n",
    "    'SAFRY': 'Financials',\n",
    "    'INFY': 'Technology',\n",
    "    'ICE': 'Financials',\n",
    "    'AAIGF': 'Consumer Staples',\n",
    "    'IVSBF': 'Healthcare',\n",
    "    'PLTR': 'Technology',\n",
    "    'DUK': 'Utilities',\n",
    "    'SFTBF': 'Technology',\n",
    "    'KLAC': 'Technology',\n",
    "    'IVSXF': 'Healthcare',\n",
    "    'ENB': 'Energy',\n",
    "    'PBR-A': 'Energy',\n",
    "    'PBR': 'Energy',\n",
    "    'USB-PH': 'Financials',\n",
    "    'SFTBY': 'Technology',\n",
    "    'UNCRY': 'Financials',\n",
    "    'UNCFF': 'Financials',\n",
    "    'ICLTF': 'Technology',\n",
    "    'BAC-PL': 'Financials'\n",
    "}\n",
    "df['industry'] = df['symbol'].map(industry_mapping)"
   ]
  },
  {
   "cell_type": "code",
   "execution_count": null,
   "id": "7cd4a800-b604-4ab3-aa53-67ada26fafb9",
   "metadata": {},
   "outputs": [],
   "source": [
    "df.sample(10)"
   ]
  },
  {
   "cell_type": "code",
   "execution_count": null,
   "id": "92e68495-cc17-4942-84ca-a6e1d8293da3",
   "metadata": {},
   "outputs": [],
   "source": [
    "df['industry'].value_counts()"
   ]
  },
  {
   "cell_type": "markdown",
   "id": "2a716449-cd20-454c-8e21-805617121efc",
   "metadata": {},
   "source": [
    "<h1 style=\"color: #00BFFF;\">03 | EDA (Exploratory Data Analysis)</h1>"
   ]
  },
  {
   "cell_type": "markdown",
   "id": "905d5af2",
   "metadata": {
    "tags": []
   },
   "source": [
    "<h2 style=\"color: #008080;\">Statistical information about the numerical columns</h2>"
   ]
  },
  {
   "cell_type": "code",
   "execution_count": null,
   "id": "62f939b9-42b5-46e2-8e0e-ad3864e7648e",
   "metadata": {},
   "outputs": [],
   "source": [
    "market = df.groupby('industry')['marketcap'].sum().reset_index()"
   ]
  },
  {
   "cell_type": "code",
   "execution_count": null,
   "id": "9cd6945f-5b25-4d7f-b3c2-7c77cfb09f66",
   "metadata": {},
   "outputs": [],
   "source": [
    "market1 = market.sort_values(by='marketcap', ascending=False).reset_index(drop=True)\n",
    "market1.index = market1.index +1"
   ]
  },
  {
   "cell_type": "code",
   "execution_count": null,
   "id": "5e13bc97-1488-4292-b7ce-e31a1f90d9b8",
   "metadata": {},
   "outputs": [],
   "source": [
    "market1"
   ]
  },
  {
   "cell_type": "markdown",
   "id": "eb15542b-46dc-4486-9877-830c5c051484",
   "metadata": {},
   "source": [
    "From this information we do can extract that the most market cap is in the **Technology** Industry.\n",
    "And the lowest market cap is in **Real State**. Which means that when trying to select a stock it is helpful to know in which industries are more active. And the investors likes the most. "
   ]
  },
  {
   "cell_type": "code",
   "execution_count": null,
   "id": "207dcad6-cc50-4126-90de-872d231c0111",
   "metadata": {},
   "outputs": [],
   "source": [
    "forward = df.groupby('industry')['forwardpe'].mean().round(2).reset_index()"
   ]
  },
  {
   "cell_type": "code",
   "execution_count": null,
   "id": "7e4977be-249d-4b74-a4ed-b9caa6838a39",
   "metadata": {},
   "outputs": [],
   "source": [
    "forward1 = forward.sort_values(by='forwardpe', ascending=False).reset_index(drop=True)\n",
    "forward1.index = forward1.index +1\n",
    "forward1"
   ]
  },
  {
   "cell_type": "markdown",
   "id": "7df2ba58-ba37-48ec-88ac-84cea1dcd77e",
   "metadata": {},
   "source": [
    "**MODIFY**\n",
    "From this information we do can extract that the most market cap is in the **Technology** Industry.\n",
    "And the lowest market cap is in **Real State**. Which means that when trying to select a stock it is helpful to know in which industries are more active. And the investors likes the most. "
   ]
  },
  {
   "cell_type": "code",
   "execution_count": null,
   "id": "b8693fff-651d-4ec5-ade1-31e7ad6523ce",
   "metadata": {},
   "outputs": [],
   "source": [
    "df.loc[df['industry'] == 'Technology'].head(3)"
   ]
  },
  {
   "cell_type": "code",
   "execution_count": null,
   "id": "a5c2c5ba-a6dc-49bb-aae0-70a12b0dea6f",
   "metadata": {},
   "outputs": [],
   "source": [
    "df.loc[df['industry'] == 'Financials'].head(3)"
   ]
  },
  {
   "cell_type": "code",
   "execution_count": null,
   "id": "05b15887-fb74-4a43-87bc-4c59636c857e",
   "metadata": {},
   "outputs": [],
   "source": [
    "df.loc[df['industry'] == 'Healthcare'].head(3)"
   ]
  },
  {
   "cell_type": "markdown",
   "id": "37a38014-bcde-47cd-929e-73a897aec057",
   "metadata": {},
   "source": [
    "Most important companies in the Technological industry: \n",
    "- **Apple**\n",
    "- **Nvidia**\n",
    "- **Microsoft**\n",
    "\n",
    "Most important companies in the Financials Industry: \n",
    "- **Berhshire Hathaway**\n",
    "- **JP Morgan**\n",
    "- **Visa**\n",
    "\n",
    "Most important companies in the Healthcare Industry: \n",
    "- **Eli Lily**\n",
    "- **Novo Nordisk**\n",
    "- **UnitedHealth**"
   ]
  },
  {
   "cell_type": "code",
   "execution_count": null,
   "id": "8a5a539f-4f59-4c2d-9725-1375cee88cdd",
   "metadata": {},
   "outputs": [],
   "source": [
    "df['rating'].value_counts()"
   ]
  },
  {
   "cell_type": "code",
   "execution_count": null,
   "id": "a0a108a5-327b-40c5-927b-8e9703002aca",
   "metadata": {},
   "outputs": [],
   "source": [
    "round(df.rating.value_counts(\"Buy\") * 100, 2).reset_index()"
   ]
  },
  {
   "cell_type": "markdown",
   "id": "8be3f28e",
   "metadata": {},
   "source": [
    "From this value counts, we can extract that we are not in a bear market: \n",
    "   + **67%** (Buy, Hold, Strong Buy)\n",
    "   + **33%** (No rating, Underperform)\n",
    "\n",
    "Rating confirms that 67% of the stocks are a buy or hold. "
   ]
  },
  {
   "cell_type": "code",
   "execution_count": null,
   "id": "fc4ff82c-3aaf-48b2-b934-192b9b5cd51f",
   "metadata": {},
   "outputs": [],
   "source": [
    "#Good to have important mean for rating in and forward pe. \n",
    "pivot_rat = round(df.pivot_table(index='rating', values='forwardpe'), 2)\n",
    "pivot_rat"
   ]
  },
  {
   "cell_type": "code",
   "execution_count": null,
   "id": "bb23123a-bf0d-4ef5-896b-2168966f0805",
   "metadata": {},
   "outputs": [],
   "source": [
    "pivot_pe = round(df.pivot_table(index='industry', columns='rating', values='forwardpe'), 2)\n",
    "pivot_pe"
   ]
  },
  {
   "cell_type": "code",
   "execution_count": null,
   "id": "dac4b71c-1470-492b-93b8-7e9801345e6e",
   "metadata": {},
   "outputs": [],
   "source": [
    "pivot_con = round(df.pivot_table(index='industry',columns='confidence', values='forwardpe'), 2)\n",
    "pivot_con"
   ]
  },
  {
   "cell_type": "code",
   "execution_count": null,
   "id": "0945eb9b-65c8-4b1a-94fa-59dc21658fff",
   "metadata": {},
   "outputs": [],
   "source": [
    "df['forwardpe'].mean().round(2)"
   ]
  },
  {
   "cell_type": "code",
   "execution_count": null,
   "id": "6dd3c647-616b-46f1-94f4-7198a87a3c3a",
   "metadata": {},
   "outputs": [],
   "source": [
    "high_pe = df[df['forwardpe'] > 25].head(10)\n",
    "high_pe"
   ]
  },
  {
   "cell_type": "code",
   "execution_count": null,
   "id": "1cceb385-7396-40ea-ac8d-be920aeff59b",
   "metadata": {},
   "outputs": [],
   "source": [
    "# High PE high valuation and high expectations. \n",
    "high_pe1 = high_pe.sort_values(by='forwardpe', ascending=False)\n",
    "high_pe1.head(5)"
   ]
  },
  {
   "cell_type": "code",
   "execution_count": null,
   "id": "128b9755-95f7-4f01-87cc-94e0740888fb",
   "metadata": {},
   "outputs": [],
   "source": [
    "# Dividend Anually \n",
    "high_dividend = df.sort_values(by='dividendrate', ascending=False)\n",
    "high_dividend.head(10)"
   ]
  },
  {
   "cell_type": "code",
   "execution_count": null,
   "id": "1ec9ff76-71d3-4eb9-b9fa-6c34ff88597c",
   "metadata": {},
   "outputs": [],
   "source": [
    "df.groupby('rating')['dividendrate'].mean().round(2)"
   ]
  },
  {
   "cell_type": "markdown",
   "id": "1a9a1325-cbf7-414d-b39e-41824d11e7f5",
   "metadata": {},
   "source": [
    "<h1 style=\"color: #00BFFF;\">07 | Reporting</h1>"
   ]
  }
 ],
 "metadata": {
  "kernelspec": {
   "display_name": "Python 3 (ipykernel)",
   "language": "python",
   "name": "python3"
  },
  "language_info": {
   "codemirror_mode": {
    "name": "ipython",
    "version": 3
   },
   "file_extension": ".py",
   "mimetype": "text/x-python",
   "name": "python",
   "nbconvert_exporter": "python",
   "pygments_lexer": "ipython3",
   "version": "3.12.4"
  }
 },
 "nbformat": 4,
 "nbformat_minor": 5
}
